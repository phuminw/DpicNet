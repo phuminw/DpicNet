{
 "metadata": {
  "language_info": {
   "codemirror_mode": {
    "name": "ipython",
    "version": 3
   },
   "file_extension": ".py",
   "mimetype": "text/x-python",
   "name": "python",
   "nbconvert_exporter": "python",
   "pygments_lexer": "ipython3",
   "version": "3.8.5-final"
  },
  "orig_nbformat": 2,
  "kernelspec": {
   "name": "python3",
   "display_name": "Python 3"
  }
 },
 "nbformat": 4,
 "nbformat_minor": 2,
 "cells": [
  {
   "cell_type": "markdown",
   "metadata": {},
   "source": [
    "# DpicNet\n",
    "\n",
    "DpicNet a deep neural network aimed to achieve good performance on [Intel Multi-class Image Classification](https://www.kaggle.com/puneet6060/intel-image-classification). DpicNet is built by transfering learning procedure from Xception deep neural network and freezing the convolutional parts, which serves as a feature extractor. The top part of DpicNet is created by adding dense hidden layers and shaping to match the number of classes in [Intel Multi-class Image Classification](https://www.kaggle.com/puneet6060/intel-image-classification)"
   ]
  },
  {
   "cell_type": "code",
   "execution_count": 1,
   "metadata": {},
   "outputs": [],
   "source": [
    "from model.model import DpicNet\n",
    "from model.data import load_train_data, load_test_data"
   ]
  },
  {
   "cell_type": "code",
   "execution_count": 2,
   "metadata": {
    "tags": []
   },
   "outputs": [
    {
     "output_type": "stream",
     "name": "stdout",
     "text": "Found 14034 images belonging to 6 classes.\nFound 3000 images belonging to 6 classes.\nModel: \"DpicNet\"\n_________________________________________________________________\nLayer (type)                 Output Shape              Param #   \n=================================================================\nxception (Model)             (None, 5, 5, 2048)        20861480  \n_________________________________________________________________\nflatten (Flatten)            (None, 51200)             0         \n_________________________________________________________________\ndense (Dense)                (None, 512)               26214912  \n_________________________________________________________________\ndense_1 (Dense)              (None, 128)               65664     \n_________________________________________________________________\ndense_2 (Dense)              (None, 6)                 774       \n=================================================================\nTotal params: 47,142,830\nTrainable params: 26,281,350\nNon-trainable params: 20,861,480\n_________________________________________________________________\n\n"
    }
   ],
   "source": [
    "train_data = load_train_data()\n",
    "test_data = load_test_data()\n",
    "hidden1_nodes = 512\n",
    "hidden2_nodes = 128\n",
    "learning_rate = 0.005\n",
    "model = DpicNet(train_data.image_shape, train_data.num_classes, hidden1_nodes, hidden2_nodes, learning_rate)\n",
    "print(model)"
   ]
  },
  {
   "cell_type": "code",
   "execution_count": 3,
   "metadata": {
    "tags": []
   },
   "outputs": [
    {
     "output_type": "stream",
     "name": "stdout",
     "text": "WARNING:tensorflow:sample_weight modes were coerced from\n  ...\n    to  \n  ['...']\nTrain for 439 steps\nEpoch 1/4\n439/439 [==============================] - 145s 331ms/step - loss: 0.8095\nEpoch 2/4\n439/439 [==============================] - 12s 27ms/step - loss: 0.3682\nEpoch 3/4\n439/439 [==============================] - 11s 26ms/step - loss: 0.2673\nEpoch 4/4\n439/439 [==============================] - 11s 26ms/step - loss: 0.1828\n"
    }
   ],
   "source": [
    "model.fit(train_data, 4)"
   ]
  },
  {
   "cell_type": "code",
   "execution_count": 4,
   "metadata": {
    "tags": []
   },
   "outputs": [
    {
     "output_type": "stream",
     "name": "stdout",
     "text": "WARNING:tensorflow:sample_weight modes were coerced from\n  ...\n    to  \n  ['...']\n94/94 [==============================] - 33s 352ms/step - loss: 0.9314\n"
    },
    {
     "output_type": "execute_result",
     "data": {
      "text/plain": "0.931437666587373"
     },
     "metadata": {},
     "execution_count": 4
    }
   ],
   "source": [
    "model.evaluate(test_data)"
   ]
  }
 ]
}